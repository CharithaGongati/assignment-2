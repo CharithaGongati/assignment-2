{
  "nbformat": 4,
  "nbformat_minor": 0,
  "metadata": {
    "colab": {
      "provenance": [],
      "authorship_tag": "ABX9TyMaEXPNQzSd2JKX44PWezO+",
      "include_colab_link": true
    },
    "kernelspec": {
      "name": "python3",
      "display_name": "Python 3"
    },
    "language_info": {
      "name": "python"
    }
  },
  "cells": [
    {
      "cell_type": "markdown",
      "metadata": {
        "id": "view-in-github",
        "colab_type": "text"
      },
      "source": [
        "<a href=\"https://colab.research.google.com/github/CharithaGongati/assignment-2/blob/main/Assignment_2.ipynb\" target=\"_parent\"><img src=\"https://colab.research.google.com/assets/colab-badge.svg\" alt=\"Open In Colab\"/></a>"
      ]
    },
    {
      "cell_type": "code",
      "source": [
        "#1.Write a program that takes two strings from the user: first_name, last_name. Pass these variables to\n",
        "#fullname function that should return the (full name).\n",
        "\n",
        "first_name=input(\"enter your first name:\")\n",
        "#taking first name from the user\n",
        "last_name=input(\"enter your last name:\")\n",
        "#taking last name from the user\n",
        "full_name=(first_name+' '+last_name)\n",
        "#combining first name and last name\n",
        "print(full_name)\n",
        "#printing full name"
      ],
      "metadata": {
        "colab": {
          "base_uri": "https://localhost:8080/"
        },
        "id": "2utiWPakxUc5",
        "outputId": "71ed4184-18a1-463d-c5d1-4f8554500417"
      },
      "execution_count": 6,
      "outputs": [
        {
          "output_type": "stream",
          "name": "stdout",
          "text": [
            "enter your first name:Charitha\n",
            "enter your last name:Gongati\n",
            "Charitha Gongati\n"
          ]
        }
      ]
    },
    {
      "cell_type": "code",
      "source": [
        "#-Write function named “string_alternative” that returns every other char in the full_name string.\n",
        "\n",
        "def string_alternative(str):#creating a function\n",
        "    result=\"\"#taking a new string\n",
        "    for i in range (len(str)):#range of function\n",
        "        if(i%2==0):#if condition to print alternate charaters\n",
        "           result+=str[i] #adding alternate characters to the new string\n",
        "    return result#retur the new string\n",
        "print(string_alternative(\"Good evening\"))#calling the function in the main function\n"
      ],
      "metadata": {
        "colab": {
          "base_uri": "https://localhost:8080/"
        },
        "id": "w1qjqPX2xZAQ",
        "outputId": "e4b2a5d4-80ce-471f-f96d-3754b94d4d74"
      },
      "execution_count": 3,
      "outputs": [
        {
          "output_type": "stream",
          "name": "stdout",
          "text": [
            "Go vnn\n"
          ]
        }
      ]
    },
    {
      "cell_type": "code",
      "source": [
        "#2.Write a python program to find the wordcount in a file (input.txt) for each line and then print the output.\n",
        "#o Finally store the output in output.txt file.\n",
        "\n",
        "input_file = open('input.txt', 'r')#reading the input file\n",
        "count = dict()# to count\n",
        "source = input_file.read()# read data from the input file\n",
        "words = source.split()# splitting the words\n",
        "for word in words:\n",
        "    if word in count:\n",
        "        count[word] += 1\n",
        "    else:\n",
        "        count[word] = 1\n",
        "print(count)\n",
        "f = open('output.txt', 'w')#writing the output file\n",
        "f.write(source)\n",
        "f.write('\\nword_count:\\n')\n",
        "for key, value in count.items():\n",
        "    f.write(f\"{key}: {value}\\n\")\n",
        "f.close()"
      ],
      "metadata": {
        "id": "OLqDwNx_yFMa"
      },
      "execution_count": null,
      "outputs": []
    },
    {
      "cell_type": "code",
      "source": [
        "def inches_to_cm(inches):\n",
        "    return inches /2.204\n",
        "\n",
        "def main():\n",
        "    num_customers = int(input(\"Enter the number of customers: \"))\n",
        "    heights_inches = []\n",
        "\n",
        "    for i in range(num_customers):\n",
        "        height = float(input(f\"Enter the height of customer {i + 1} in inches: \"))\n",
        "        heights_inches.append(height)\n",
        "\n",
        "    # Using Nested Interactive Loop\n",
        "    heights_cm_nested = []\n",
        "    for height in heights_inches:\n",
        "        height_cm = inches_to_cm(height)\n",
        "        heights_cm_nested.append(height_cm)\n",
        "\n",
        "    # Using List Comprehensions\n",
        "    heights_cm_comprehension = [inches_to_cm(height) for height in heights_inches]\n",
        "\n",
        "    print(\"Heights in inches:\", heights_inches)\n",
        "    print(\"Heights in centimeters (Nested Loop):\", heights_cm_nested)\n",
        "    print(\"Heights in centimeters (List Comprehension):\", heights_cm_comprehension)\n",
        "\n",
        "if __name__ == \"__main__\":\n",
        "    main()"
      ],
      "metadata": {
        "colab": {
          "base_uri": "https://localhost:8080/"
        },
        "id": "6kJaBOSSygG0",
        "outputId": "5edc892c-e0bc-45b8-d031-3578debfef8c"
      },
      "execution_count": 10,
      "outputs": [
        {
          "output_type": "stream",
          "name": "stdout",
          "text": [
            "Enter the number of customers: 3\n",
            "Enter the height of customer 1 in inches: 134\n",
            "Enter the height of customer 2 in inches: 143\n",
            "Enter the height of customer 3 in inches: 126\n",
            "Heights in inches: [134.0, 143.0, 126.0]\n",
            "Heights in centimeters (Nested Loop): [60.798548094373864, 64.88203266787659, 57.16878402903811]\n",
            "Heights in centimeters (List Comprehension): [60.798548094373864, 64.88203266787659, 57.16878402903811]\n"
          ]
        }
      ]
    }
  ]
}